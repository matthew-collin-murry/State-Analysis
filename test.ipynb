{
 "cells": [
  {
   "cell_type": "code",
   "execution_count": 392,
   "outputs": [],
   "source": [
    "############ Settings ############\n",
    "\n",
    "# From https://aspe.hhs.gov/topics/poverty-economic-mobility/poverty-guidelines\n",
    "poverty_line = 13590\n",
    "\n",
    "# Salary per year that you'd be happy with\n",
    "income_for_happy = 70000\n",
    "\n",
    "# Weights\n",
    "poverty_weight = 4\n",
    "income_weight = 7\n",
    "housing_weight = 4\n",
    "lgbtq_weight = 6\n",
    "\n",
    "# State Names\n",
    "states = [\"Delaware\", \"Maine\", \"Maryland\", \"Massachusetts\", \"New Hampshire\", \"New Jersey\", \"New York\", \"Pennsylvania\", \"Rhode Island\", \"Vermont\", \"Virginia\"]"
   ],
   "metadata": {
    "collapsed": false
   }
  },
  {
   "cell_type": "code",
   "execution_count": 393,
   "outputs": [],
   "source": [
    "import pandas\n",
    "import math"
   ],
   "metadata": {
    "collapsed": false
   }
  },
  {
   "cell_type": "code",
   "execution_count": 394,
   "metadata": {
    "collapsed": true
   },
   "outputs": [],
   "source": [
    "db_poverty = pandas.read_csv(\"ACSST5Y2020.S1701-2022-11-02T235828.csv\")\n",
    "db_income = pandas.read_csv(\"ACSST5Y2020.S1901-2022-11-03T011324.csv\")\n",
    "db_house = pandas.read_csv(\"ACSST1Y2021.S2507-2022-11-04T021940.csv\")"
   ]
  },
  {
   "cell_type": "code",
   "execution_count": 395,
   "outputs": [],
   "source": [
    "# Set global values\n",
    "\n",
    "# Calculate Income Weights\n",
    "income_weights = []\n",
    "ranges = [10000,14999,24999,34999,49999,74999,99999,149999,199999]\n",
    "\n",
    "# From https://www.desmos.com/calculator/vpzyf979wi\n",
    "v_bottom = income_for_happy - poverty_line\n",
    "for val in ranges:\n",
    "    v_top = val - poverty_line\n",
    "    income_weights.append(v_top / v_bottom)\n",
    "\n",
    "# Equaldex Score for each of the states\n",
    "lgbtq_s = [78,82,81,86,83,82,82,73,84,86,67]"
   ],
   "metadata": {
    "collapsed": false
   }
  },
  {
   "cell_type": "code",
   "execution_count": 396,
   "outputs": [],
   "source": [
    "# Drop every row not needed\n",
    "db_poverty = db_poverty[:-67]\n",
    "db_income = db_income[1:10]\n",
    "\n",
    "# Drop all columns that are not needed\n",
    "db_poverty = db_poverty.filter(regex=\"(Percent below poverty level!!Estimate)\")\n",
    "db_income = db_income.filter(regex=\"(Nonfamily households!!Estimate)|(Label \\(Grouping\\))\")"
   ],
   "metadata": {
    "collapsed": false
   }
  },
  {
   "cell_type": "code",
   "execution_count": 397,
   "outputs": [],
   "source": [
    "def change_column_names_poverty():\n",
    "    global db_poverty\n",
    "    old_names = list(db_poverty)\n",
    "    new_names = list()\n",
    "    for name in old_names:\n",
    "        n_name = name.split(\"!!\")[0]\n",
    "        new_names.append(n_name)\n",
    "\n",
    "    db_poverty.columns = new_names\n",
    "\n",
    "def change_column_names_income():\n",
    "    global db_income\n",
    "    old_names = list(db_income)\n",
    "    new_names = list()\n",
    "    for name in old_names:\n",
    "        n_name = name.split(\"!!\")[0]\n",
    "        new_names.append(n_name)\n",
    "\n",
    "    db_income.columns = new_names\n",
    "\n",
    "    db_income = db_income.rename(columns={\"Label (Grouping)\" : \"% of Pop. (Nonfamily) Income\"})"
   ],
   "metadata": {
    "collapsed": false
   }
  },
  {
   "cell_type": "code",
   "execution_count": 398,
   "outputs": [],
   "source": [
    "# Change Column Names\n",
    "change_column_names_poverty()\n",
    "change_column_names_income()\n",
    "\n",
    "# Change Row Name\n",
    "db_poverty = db_poverty.rename(index={0 : \"% of Pop. Below Poverty Level\"})\n",
    "db_house = db_house.rename(index={10 : \"m_house\"})\n",
    "db_house = db_house.rename(index={63 : \"m_rent\"})"
   ],
   "metadata": {
    "collapsed": false
   }
  },
  {
   "cell_type": "code",
   "execution_count": 399,
   "outputs": [],
   "source": [
    "# Get poverty values out of sheet\n",
    "poverty_values = db_poverty.loc[\"% of Pop. Below Poverty Level\", :].values.tolist()\n",
    "for i in range(len(poverty_values)):\n",
    "    poverty_values[i] = float(poverty_values[i][:-1])"
   ],
   "metadata": {
    "collapsed": false
   }
  },
  {
   "cell_type": "code",
   "execution_count": 400,
   "outputs": [],
   "source": [
    "# Calculate income values\n",
    "# From https://www.desmos.com/calculator/vpzyf979wi\n",
    "income_values = []\n",
    "for column in db_income.columns[1:]:\n",
    "    values = db_income[column].values.tolist()\n",
    "    tmp_values = []\n",
    "    for i in range(len(values)):\n",
    "        value = float(values[i][:-1])\n",
    "        tmp_values.append(value * income_weights[i])\n",
    "\n",
    "    income_values.append(math.fsum(tmp_values))"
   ],
   "metadata": {
    "collapsed": false
   }
  },
  {
   "cell_type": "code",
   "execution_count": 401,
   "outputs": [],
   "source": [
    "# Get median house costs from data set\n",
    "median_house_cost = db_house.loc[\"m_house\", :].values.tolist()[1:]\n",
    "for i in range(len(median_house_cost)):\n",
    "    median_house_cost[i] = int(median_house_cost[i].replace(',', ''))\n",
    "\n",
    "# Remove dups\n",
    "median_house_cost = [*set(median_house_cost)]"
   ],
   "metadata": {
    "collapsed": false
   }
  },
  {
   "cell_type": "code",
   "execution_count": 402,
   "outputs": [],
   "source": [
    "# Calculate State Values\n",
    "s_values = []\n",
    "\n",
    "poverty_h = max(poverty_values)\n",
    "income_h = max(income_values)\n",
    "house_h = max(median_house_cost)\n",
    "lgbt_h = max(lgbtq_s)\n",
    "\n",
    "for i in range(len(states)):\n",
    "    poverty = (poverty_values[i] / poverty_h) * poverty_weight\n",
    "    income = (income_values[i] / income_h) * income_weight\n",
    "    house = (median_house_cost[i] / house_h) * housing_weight\n",
    "    lgbt = (lgbtq_s[i] / lgbt_h) * lgbtq_weight\n",
    "    s_values.append(poverty + income + house + lgbt)\n",
    "\n",
    "high = max(s_values)\n",
    "for i in range(len(s_values)):\n",
    "    s_values[i] = round(s_values[i] / high, 3)"
   ],
   "metadata": {
    "collapsed": false
   }
  },
  {
   "cell_type": "code",
   "execution_count": 403,
   "outputs": [],
   "source": [
    "# Create dict\n",
    "result = dict(zip(states, s_values))\n",
    "\n",
    "# Sort dict\n",
    "result = {w: result[w] for w in sorted(result, key=result.get, reverse=False)}\n",
    "\n",
    "# Invert dict\n",
    "result = {v: k for k, v in result.items()}"
   ],
   "metadata": {
    "collapsed": false
   }
  },
  {
   "cell_type": "code",
   "execution_count": 404,
   "outputs": [
    {
     "data": {
      "text/plain": "<BarContainer object of 10 artists>"
     },
     "execution_count": 404,
     "metadata": {},
     "output_type": "execute_result"
    },
    {
     "data": {
      "text/plain": "<Figure size 640x480 with 1 Axes>",
      "image/png": "[encoded data removed]"
     },
     "metadata": {},
     "output_type": "display_data"
    }
   ],
   "source": [
    "import matplotlib.pyplot as plt\n",
    "plt.bar(range(len(result)), list(result.values()), tick_label=list(result.keys()), width=0.5)"
   ],
   "metadata": {
    "collapsed": false
   }
  }
 ],
 "metadata": {
  "kernelspec": {
   "display_name": "Python 3",
   "language": "python",
   "name": "python3"
  },
  "language_info": {
   "codemirror_mode": {
    "name": "ipython",
    "version": 2
   },
   "file_extension": ".py",
   "mimetype": "text/x-python",
   "name": "python",
   "nbconvert_exporter": "python",
   "pygments_lexer": "ipython2",
   "version": "2.7.6"
  }
 },
 "nbformat": 4,
 "nbformat_minor": 0
}
